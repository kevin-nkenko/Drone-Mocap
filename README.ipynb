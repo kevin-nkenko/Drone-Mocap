{
 "cells": [
  {
   "cell_type": "markdown",
   "metadata": {},
   "source": [
    "# Simulateur de drone\n"
   ]
  },
  {
   "cell_type": "markdown",
   "metadata": {},
   "source": [
    "Un drone quadriotor ou quadricoptère peut effectuer quatre mouvements:\n",
    "<ul>\n",
    "    <li> Les gaz : permettent d'effectuer une montée ou une descente en altitude </li>\n",
    "    <li> Le lacet: permet au drone d'effectuer une rotation sur lui même dans le sens des aiguilles d'une montre ou dans le sens inverse </li>\n",
    "    <li>  le rouli: permet au drone de se pencher sur un de ses axes pour effectuer une translation à gauche ou à droite  </li>\n",
    "    <li>  le tangage : permet au drone de se pencher sur un de ses axes pour avancer ou reculer</li>\n",
    "</ul>\n",
    "    "
   ]
  },
  {
   "cell_type": "markdown",
   "metadata": {},
   "source": [
    "<a><img src=\"https://preview.ibb.co/gsEZck/Capture_d_cran_2017_06_23_04_12_11.png\" width=100% alt=\"Capture_d_cran_2017_06_23_04_12_11\" border=\"0\"></a>"
   ]
  },
  {
   "attachments": {},
   "cell_type": "markdown",
   "metadata": {},
   "source": []
  },
  {
   "cell_type": "markdown",
   "metadata": {},
   "source": [
    "Il y a aussi biensur une commande décoller et une commande attérir. Lorsqu'on utilise un programme pour piloter le drone, il faudra à chaque fois préciser la vitesse et la durée lors de l'envoi des commandes."
   ]
  },
  {
   "cell_type": "markdown",
   "metadata": {},
   "source": [
    "## Paramétrage"
   ]
  },
  {
   "attachments": {},
   "cell_type": "markdown",
   "metadata": {},
   "source": [
    "\n",
    "soit OXYZ le repère orthonormé fixe lié au sol et AX'Y'Z' le repère orthonormé mobile lié au drone où A est le centre de gravité du drone.\n",
    "Nous travaillons dans un répère cylindrique. Ainsi les directions OZ et OZ' coincident à tout moment.\n",
    "Pour comprendre le paramètrage en terme d'angle, nous allons considérer un point B. Le drone (en A) est censé aller en B.\n",
    "<img src=\"https://preview.ibb.co/kDyXV5/Capture_d_cran_2017_06_23_04_29_21.png\" alt=\"Capture_d_cran_2017_06_23_04_29_21\" width=100% border=\"0\">\n",
    "<img src=\"https://preview.ibb.co/kfoGq5/Capture_d_cran_2017_06_23_04_31_20.png\" alt=\"Capture_d_cran_2017_06_23_04_31_20\" width=100% border=\"0\">"
   ]
  },
  {
   "cell_type": "markdown",
   "metadata": {},
   "source": [
    "## Le modèle"
   ]
  },
  {
   "cell_type": "markdown",
   "metadata": {},
   "source": [
    "Dans la suite, on va modéliser le drone par une classe objet avec des attributs de position et de vitesse maximale. Les commandes de base seront implémentées tout simplement par des méthodes qui mettront à jour la position du drone."
   ]
  },
  {
   "cell_type": "markdown",
   "metadata": {},
   "source": [
    "### Test du planificateur de vol en mode \"translations only\""
   ]
  },
  {
   "cell_type": "code",
   "execution_count": null,
   "metadata": {
    "collapsed": true
   },
   "outputs": [],
   "source": [
    "import random\n",
    "\n",
    "\n",
    "X1=[100,200,250]\n",
    "Y1=[100,200,300]\n",
    "Z1=[350,400,280]\n",
    "\n",
    "\n",
    "for i in range(15):\n",
    "    X1 += [X1[-1] + int(random.uniform(0,200))]\n",
    "    Y1 += [Y1[-1] + int(random.uniform(0,200))]\n",
    "    Z1 += [Z1[-1] + int(random.uniform(0,200))]\n",
    "for i in range(10):\n",
    "    X1 += [X1[-1] + int(random.uniform(0,200))]\n",
    "    Y1 += [Y1[-1] + int(random.uniform(0,200))]\n",
    "    Z1 += [Z1[-1] - int(random.uniform(0,200))]\n",
    "\n",
    "\n",
    "\n",
    "\n",
    "monDrone = Drone()\n",
    "monDrone.takeoff()\n",
    "pas=50\n",
    "\n",
    "for i in range(len(X1)):\n",
    "    monDrone.goToPoint1([X1[i], Y1[i], Z1[i]], pas)\n",
    "\n",
    "X = monDrone.goneToX\n",
    "Y = monDrone.goneToY\n",
    "Z = monDrone.goneToZ\n",
    "\n",
    "X2 = [ monDrone.positionX[i] for i in range (1, len(monDrone.positionX), 1000)]\n",
    "Y2 = [ monDrone.positionY[i] for i in range (1, len(monDrone.positionY), 1000)]\n",
    "Z2 = [ monDrone.positionZ[i] for i in range (1, len(monDrone.positionZ), 1000)]\n",
    "del monDrone\n",
    "\n",
    "print(X1)\n",
    "print(Y1)\n",
    "print(Z1)\n",
    "print(X)\n",
    "print(Y)\n",
    "print(Z)\n",
    "print(Y2)\n",
    "\n",
    "\n",
    "tracerTrajectoire(X,Y, Z, X1, Y1, Z1)\n",
    "animerPoints(X2,Y2,Z2)\n",
    "\n"
   ]
  },
  {
   "attachments": {},
   "cell_type": "markdown",
   "metadata": {},
   "source": [
    "<img src=\"https://image.ibb.co/dBXRq5/Capture_d_cran_2017_06_23_04_32_50.png\" alt=\"Capture_d_cran_2017_06_23_04_32_50\" width=100% border=\"0\">"
   ]
  },
  {
   "cell_type": "markdown",
   "metadata": {
    "collapsed": true
   },
   "source": [
    "## Estimation de l'erreur"
   ]
  },
  {
   "attachments": {},
   "cell_type": "markdown",
   "metadata": {},
   "source": [
    "On peut estimer en calculant la distance entre les points de la trajectoire théorique et les points de la trajectoire réelle du drone. Même dans l’hypothèse où le drone parcourait tous les points de la trajectoire théorique imposées, la trajectoire du drone enregistré avec la mocap paraitra continu (densité de points élevée). Il faudra alors, re-échantillonner la trajectoire réelle du drone de façon à obtenir un même nombre de points que celui de la trajectoire théorique."
   ]
  },
  {
   "cell_type": "markdown",
   "metadata": {},
   "source": [
    "L'erreur reste quasiment nulle si la trajectoire théorique est un polygone dont les sommets sont sufisaments espacés."
   ]
  },
  {
   "cell_type": "markdown",
   "metadata": {},
   "source": [
    "#### Re-échantillonage des trajecoires pour avoir un meme nombre de points"
   ]
  },
  {
   "cell_type": "code",
   "execution_count": 17,
   "metadata": {
    "collapsed": true
   },
   "outputs": [],
   "source": [
    "import math\n",
    "\n",
    "def distance(point1, point2):\n",
    "    return math.sqrt((point1[0]-point2[0])**2 + (point1[1]-point2[1])**2 +  (point1[2]-point2[2])**2)\n",
    "\n",
    "\n",
    "def alignerEchantillon(pointsTheoriques, pointsMesures) :\n",
    "    nouvelleSuite=[[],[],[]]\n",
    "    erreurs = []\n",
    "    d=0\n",
    "    s = distance([pointsMesures[0][0], pointsMesures[1][0], pointsMesures[2][0]],\n",
    "                 [pointsTheoriques[0][d], pointsTheoriques[1][d], pointsTheoriques[2][d]])\n",
    "    i=1\n",
    "    while i < len(pointsMesures[0]) and d < len(pointsTheoriques[0]):\n",
    "\n",
    "        m=distance([pointsMesures[0][i],pointsMesures[1][i], pointsMesures[2][i]], [pointsTheoriques[0][d], pointsTheoriques[1][d], pointsTheoriques[2][d]])\n",
    "        if m>=s :\n",
    "            nouvelleSuite[0]+= [pointsMesures[0][i]]\n",
    "            nouvelleSuite[1]+= [pointsMesures[1][i]]\n",
    "            nouvelleSuite[2]+= [pointsMesures[2][i]]\n",
    "            erreurs += [s]\n",
    "            d+=1\n",
    "            if d==len(pointsTheoriques[0]): break\n",
    "            s = distance([pointsMesures[0][i], pointsMesures[1][i], pointsMesures[2][i]],\n",
    "                         [pointsTheoriques[0][d], pointsTheoriques[1][d], pointsTheoriques[2][d]])\n",
    "        else:\n",
    "            s=m\n",
    "        i+=1\n",
    "    return nouvelleSuite, erreurs\n"
   ]
  },
  {
   "attachments": {},
   "cell_type": "markdown",
   "metadata": {},
   "source": [
    "Dans l’exemple de la figure ci-dessous, on ne retiendra que les points en vert de la trajectoire rouge (plus dense en point que la trajectoire bleue). Il s’agit en fait des projections (approximatives) orthogonales des points bleus sur la trajectoire rouge.\n",
    "\n",
    "\n",
    "<img src=\"https://preview.ibb.co/hv96q5/Capture_d_cran_2017_06_23_04_34_16.png\" alt=\"Capture_d_cran_2017_06_23_04_34_16\" border=\"0\">"
   ]
  },
  {
   "cell_type": "markdown",
   "metadata": {},
   "source": [
    "#### Test 1"
   ]
  },
  {
   "cell_type": "code",
   "execution_count": null,
   "metadata": {
    "collapsed": true
   },
   "outputs": [],
   "source": [
    "X1=[100,200,250]\n",
    "Y1=[100,200,300]\n",
    "Z1=[350,400,280]\n",
    "\n",
    "\n",
    "for i in range(15):\n",
    "    X1 += [X1[-1] + int(random.uniform(0,200))]\n",
    "    Y1 += [Y1[-1] + int(random.uniform(0,200))]\n",
    "    Z1 += [Z1[-1] + int(random.uniform(0,200))]\n",
    "for i in range(10):\n",
    "    X1 += [X1[-1] + int(random.uniform(0,200))]\n",
    "    Y1 += [Y1[-1] + int(random.uniform(0,200))]\n",
    "    Z1 += [Z1[-1] - int(random.uniform(0,200))]\n",
    "\n",
    "\n",
    "\n",
    "\n",
    "monDrone = Drone()\n",
    "monDrone.takeoff()\n",
    "pas=200\n",
    "\n",
    "for i in range(len(X1)):\n",
    "    monDrone.goToPoint1([X1[i], Y1[i], Z1[i]], pas)\n",
    "    \n",
    "X = monDrone.positionX\n",
    "Y = monDrone.positionY\n",
    "Z = monDrone.positionZ\n",
    "\n",
    "X, erreurs = alignerEchantillon([X1, Y1, Z1], [X, Y, Z])\n",
    "print(len(X[0])-len(X1))\n",
    "tracerTrajectoire(X[0], X[1],X[2], X1, Y1, Z1)\n",
    "plt.plot(erreurs)\n",
    "plt.show()\n",
    "\n",
    "print(\"erreur moyen\", sum(erreurs)/len(erreurs))\n",
    "print(\"erreur max\", max(erreurs))\n",
    "\n",
    "\n"
   ]
  },
  {
   "attachments": {},
   "cell_type": "markdown",
   "metadata": {},
   "source": [
    "<img src=\"https://image.ibb.co/eK4pA5/Capture_d_cran_2017_06_23_04_00_49.png\" alt=\"Capture_d_cran_2017_06_23_04_00_49\" border=\"0\">"
   ]
  },
  {
   "cell_type": "markdown",
   "metadata": {},
   "source": [
    "#### Test 2"
   ]
  },
  {
   "cell_type": "code",
   "execution_count": null,
   "metadata": {
    "collapsed": true
   },
   "outputs": [],
   "source": [
    "from numpy import *\n",
    "\n",
    "theta=linspace(-16*pi,16*pi,800) \n",
    "z=linspace(-2,2,800)\n",
    "r=z*z+1\n",
    "x=r*sin(theta)\n",
    "y=r*cos(theta)\n",
    "\n",
    "z=z*1000\n",
    "\n",
    "X1=x.tolist()\n",
    "Y1=y.tolist()\n",
    "Z1=z.tolist()\n",
    "\n",
    "\n",
    "monDrone = Drone()\n",
    "monDrone.takeoff()\n",
    "pas=30\n",
    "\n",
    "for i in range(len(X1)):\n",
    "    monDrone.goToPoint1([X1[i], Y1[i], Z1[i]], pas)\n",
    "monDrone.land()\n",
    "\n",
    "X = monDrone.goneToX\n",
    "Y = monDrone.goneToY\n",
    "Z = monDrone.goneToZ\n",
    "\n",
    "\n",
    "X, erreurs = alignerEchantillon([X1, Y1, Z1], [X, Y, Z])\n",
    "print(len(X[0])-len(X1))\n",
    "tracerTrajectoire(X[0], X[1],X[2], X1, Y1, Z1)\n",
    "plt.plot(erreurs)\n",
    "plt.show()\n",
    "\n",
    "print(\"erreur moyenne\", sum(erreurs)/len(erreurs))\n",
    "print(\"erreur max\", max(erreurs))\n",
    "\n"
   ]
  },
  {
   "attachments": {},
   "cell_type": "markdown",
   "metadata": {},
   "source": [
    "<img src=\"https://image.ibb.co/cYuxV5/Capture_d_cran_2017_06_23_04_01_23.png\" alt=\"Capture_d_cran_2017_06_23_04_01_23\" border=\"0\">"
   ]
  },
  {
   "cell_type": "markdown",
   "metadata": {},
   "source": [
    "#### Fichier executable pour le drone"
   ]
  },
  {
   "cell_type": "code",
   "execution_count": null,
   "metadata": {
    "collapsed": true
   },
   "outputs": [],
   "source": [
    "#generation du fichier nodeJs pour le drone\n",
    "\n",
    "suitecommandes=\"var arDrone = require('ar-drone');\\nvar client  = arDrone.createClient();\\n \\n client.takeoff(); \\n \"\n",
    "suitecommandes+=planning\n",
    "\n",
    "fichierVol = open(\"fichierVol.js\", \"w\")\n",
    "fichierVol.write(suitecommandes)\n",
    "fichierVol.close()"
   ]
  },
  {
   "attachments": {},
   "cell_type": "markdown",
   "metadata": {},
   "source": [
    "On obtient un fichier de cette forme\n",
    "\n",
    "<img src=\"https://image.ibb.co/fveaHk/Capture_d_cran_2017_06_23_02_42_29.png\" alt=\"Capture_d_cran_2017_06_23_02_42_29\" border=\"0\">"
   ]
  }
 ],
 "metadata": {
  "kernelspec": {
   "display_name": "Python 2",
   "language": "python",
   "name": "python2"
  },
  "language_info": {
   "codemirror_mode": {
    "name": "ipython",
    "version": 2
   },
   "file_extension": ".py",
   "mimetype": "text/x-python",
   "name": "python",
   "nbconvert_exporter": "python",
   "pygments_lexer": "ipython2",
   "version": "2.7.13"
  }
 },
 "nbformat": 4,
 "nbformat_minor": 2
}
